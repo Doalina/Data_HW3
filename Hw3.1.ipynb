{
 "cells": [
  {
   "cell_type": "code",
   "execution_count": 26,
   "id": "fcba7178-eb2a-4dcd-8274-cff398484a94",
   "metadata": {},
   "outputs": [],
   "source": [
    "\n",
    "import numpy as np\n",
    "import pandas as pd\n",
    "import matplotlib.pyplot as plt\n",
    "import seaborn as sns\n",
    "\n",
    "%matplotlib inline"
   ]
  },
  {
   "cell_type": "code",
   "execution_count": 27,
   "id": "4dd02ba4-15dd-47b4-9bca-757b48868da4",
   "metadata": {},
   "outputs": [],
   "source": [
    "# напишіть функцію гіпотези лінійної регресії у векторному вигляді;\n",
    "def h(X, w):\n",
    "    return np.dot(X, w)"
   ]
  },
  {
   "cell_type": "code",
   "execution_count": 28,
   "id": "e0370778-ab0d-448c-988b-ca8ddec33e80",
   "metadata": {},
   "outputs": [],
   "source": [
    "# створіть функцію для обчислення функції втрат у векторному вигляді;\n",
    "def loss_function(X, y, w):\n",
    "    return np.square(h(X, w) - y).sum() / (2 * len(X))"
   ]
  },
  {
   "cell_type": "code",
   "execution_count": 29,
   "id": "ba6c3829-4c3d-434b-8ee8-965c0dfdead9",
   "metadata": {},
   "outputs": [],
   "source": [
    "# реалізуйте один крок градієнтного спуску;\n",
    "def grad_w(X, y, w):\n",
    "    m = len(X)\n",
    "    h = np.dot(X, w)\n",
    "    gradient = np.dot(X.T, (h - y)) / m\n",
    "    return gradient"
   ]
  },
  {
   "cell_type": "code",
   "execution_count": 30,
   "id": "1d62cf28-0bd3-416e-8b5c-6d73de2c559c",
   "metadata": {},
   "outputs": [],
   "source": [
    "def grad_step(w, grad_w, learning_rate=0.001):\n",
    "    return w - learning_rate * grad_w\n"
   ]
  },
  {
   "cell_type": "code",
   "execution_count": 31,
   "id": "82094d16-a5ab-4449-aed4-a904812547e0",
   "metadata": {},
   "outputs": [],
   "source": [
    "def gradient_descent(X, y, w, num_iter=10000, learning_rate=0.001, epsilon=0.0000001):\n",
    "    loss_history = []\n",
    "\n",
    "    for i in range(num_iter):\n",
    "        grad_w = calculate_gradient(X, y, w)\n",
    "        w = update_weights(w, grad_w, learning_rate)\n",
    "\n",
    "        loss = loss_function(X, y, w)\n",
    "        loss_history.append(loss)\n",
    "\n",
    "        if i > 0 and abs(loss - loss_history[-2]) < epsilon:\n",
    "            break\n",
    "\n",
    "    return w, loss_history\n",
    "\n",
    "def calculate_gradient(X, y, w):\n",
    "    return np.dot(X.T, (np.dot(X, w) - y)) / len(X)\n",
    "\n",
    "def update_weights(w, grad_w, learning_rate):\n",
    "    return w - learning_rate * grad_w\n",
    "\n"
   ]
  },
  {
   "cell_type": "code",
   "execution_count": 32,
   "id": "c2556731-ea3c-4e0d-bb99-45596135192a",
   "metadata": {},
   "outputs": [
    {
     "name": "stdout",
     "output_type": "stream",
     "text": [
      "The best values w:  [2.74890406e-16 4.32630011e-01 3.65462058e-01 1.69814157e-01]\n",
      "The best values of the loss function:  0.25605342833253486\n"
     ]
    }
   ],
   "source": [
    "# знайдіть найкращі параметри {w} для датасету прогнозуючи ціну на будинок залежно від площі, кількості ванних кімнат та кількості спалень:\n",
    "df = pd.read_csv(\"Housing.csv\")\n",
    "norm_df = pd.DataFrame()\n",
    "\n",
    "def normalization(data):\n",
    "    return (data - data.mean()) / data.std()\n",
    "\n",
    "norm_df[\"price\"] = normalization(df[\"price\"])\n",
    "norm_df[\"area\"] = normalization(df[\"area\"])\n",
    "norm_df[\"bathrooms\"] = normalization(df[\"bathrooms\"])\n",
    "norm_df[\"bedrooms\"] = normalization(df[\"bedrooms\"])\n",
    "X = norm_df[['area', 'bathrooms', 'bedrooms']].values\n",
    "X = np.hstack((np.ones((X.shape[0], 1)), X))\n",
    "y = norm_df[\"price\"].values.reshape(-1, 1)\n",
    "\n",
    "n = X.shape[1]\n",
    "w_initial = np.zeros((n, 1))\n",
    "w_best, loss_history = gradient_descent(X, y, w_initial, num_iter=10000, learning_rate=0.001)\n",
    "\n",
    "best_loss = loss_history[-1]\n",
    "print('The best values w: ', w_best.flatten())\n",
    "print('The best values of the loss function: ', best_loss)"
   ]
  },
  {
   "cell_type": "code",
   "execution_count": 33,
   "id": "e04a70ae-036f-4ab9-bc9c-4815ccbe0f5c",
   "metadata": {},
   "outputs": [
    {
     "name": "stdout",
     "output_type": "stream",
     "text": [
      "The best analitical w:  [-3.03142927e-16  4.39452085e-01  3.72344423e-01  1.60528660e-01]\n",
      "The best analitical loss function:  0.2559879006532141\n"
     ]
    }
   ],
   "source": [
    "#знайдіть ці ж параметри за допомогою аналітичного рішення:\n",
    "analitical_w = np.dot(np.dot(np.linalg.inv(np.dot(X.T, X)), X.T), y)\n",
    "analitical_loss = loss_function(X, y, analitical_w)\n",
    "print('The best analitical w: ', analitical_w.flatten())\n",
    "print('The best analitical loss function: ', analitical_loss)"
   ]
  },
  {
   "cell_type": "code",
   "execution_count": 35,
   "id": "398c36a7-2064-468a-bbfc-e6395400499b",
   "metadata": {},
   "outputs": [
    {
     "name": "stdout",
     "output_type": "stream",
     "text": [
      "The value of best_values_of_loss_function (0.2561) is greater than the value of best_analytical_loss_function (0.256)\n"
     ]
    }
   ],
   "source": [
    "# порівняйте отримані результати.\n",
    "best_values = best_loss\n",
    "best_analytical = analytical_loss\n",
    "\n",
    "a = round(best_values, 4)\n",
    "b = round(best_analytical, 4)\n",
    "\n",
    "if a > b:\n",
    "    print(f\"The value of best_values_of_loss_function ({a}) is greater than the value of best_analytical_loss_function ({b})\")\n",
    "elif a < b:\n",
    "    print(f\"The value of best_values_of_loss_function ({a}) is less than the value of best_analytical_loss_function ({b})\")\n",
    "else:\n",
    "    print(f\"The value of best_values_of_loss_function ({a}) is equal to the value of best_analytical_loss_function ({b})\")\n"
   ]
  },
  {
   "cell_type": "code",
   "execution_count": null,
   "id": "110c73ea-84d1-47b9-861f-f37052a35ec8",
   "metadata": {},
   "outputs": [],
   "source": []
  }
 ],
 "metadata": {
  "kernelspec": {
   "display_name": "Python 3 (ipykernel)",
   "language": "python",
   "name": "python3"
  },
  "language_info": {
   "codemirror_mode": {
    "name": "ipython",
    "version": 3
   },
   "file_extension": ".py",
   "mimetype": "text/x-python",
   "name": "python",
   "nbconvert_exporter": "python",
   "pygments_lexer": "ipython3",
   "version": "3.10.7"
  }
 },
 "nbformat": 4,
 "nbformat_minor": 5
}
